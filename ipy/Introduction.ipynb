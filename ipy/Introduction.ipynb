{
 "cells": [
  {
   "cell_type": "raw",
   "metadata": {},
   "source": [
    "Title: Introduction\n",
    "Tags: Tensorflow From The Ground Up"
   ]
  },
  {
   "cell_type": "markdown",
   "metadata": {},
   "source": [
    "## Introduction"
   ]
  },
  {
   "cell_type": "markdown",
   "metadata": {},
   "source": [
    "Hello and welcome!  I'm Steve, and I'm an experienced Software Engineer, and I'm learning [Tensorflow](https://tensorflow.org).\n",
    "\n",
    "One of the biggest questions that I had was: \n",
    "\n",
    "> How do I determine if I can solve a problem using Machine Learning?  Which problems will it work for, \n",
    "> and which ones will be a failure?  \n",
    "\n",
    "This is an extremely important question, and most tutorials I found were lacking this type of low level context. \n",
    "\n",
    "There are many tutorials for Tensorflow on the internet, but I found that most of them (including ones included in the [Tensorflow documentation](https://www.tensorflow.org/tutorials/mnist/beginners/)) take a \"top down\" approach, usually starting with running an MNIST classifier on a pre-existing data set. \n",
    "\n",
    "These top down introductions are useful for people who have a dataset in mind, and who are ready to apply existing ML models to new (or existing) datasets, or for people who want to get a 10,000 foot view of what ML is and how it's applied in practice. \n",
    "\n",
    "Top down approaches aren't at all suited for those who would like to eventually gain a deep, thourough understanding of thesystems involved.  "
   ]
  },
  {
   "cell_type": "markdown",
   "metadata": {},
   "source": [
    "## Goals "
   ]
  },
  {
   "cell_type": "markdown",
   "metadata": {},
   "source": [
    "I have some rough goals in mind, which I'll quickly outline here, mostly to keep myself focused: \n",
    "\n",
    "1. Approach machine learning from the **bottom up**.  \n",
    "2. Build **intuititon** around the tools and processes used in ML. \n",
    "3. Use **exploratory** methods, showing different approaches to solving the same problem.\n",
    "4. Aim for **deep** understanding of the systems involved. "
   ]
  },
  {
   "cell_type": "markdown",
   "metadata": {},
   "source": [
    "## Tools"
   ]
  },
  {
   "cell_type": "markdown",
   "metadata": {},
   "source": [
    "For this blog, I'm using a new collection of tools, which I've somewhat hand-configured for the purpose.  I may go into more detail in later posts. The rough collection of tools I'm using is: \n",
    "\n",
    "* [Pelican Static Blogging](https://getpelican.com) Software for content generation.\n",
    "* [Github Pages](https://pages.github.com) for hosting. \n",
    "* [Jupyter Notebooks](https://jupyter.org) for authoring all posts. \n",
    "* Ubuntu & Linux hardware with nVidia GPU accelleration as my runtime."
   ]
  }
 ],
 "metadata": {
  "kernelspec": {
   "display_name": "Python 2",
   "language": "python",
   "name": "python2"
  },
  "language_info": {
   "codemirror_mode": {
    "name": "ipython",
    "version": 2
   },
   "file_extension": ".py",
   "mimetype": "text/x-python",
   "name": "python",
   "nbconvert_exporter": "python",
   "pygments_lexer": "ipython2",
   "version": "2.7.12"
  }
 },
 "nbformat": 4,
 "nbformat_minor": 2
}
