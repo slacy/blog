{
 "cells": [
  {
   "cell_type": "code",
   "execution_count": 28,
   "metadata": {
    "collapsed": false
   },
   "outputs": [],
   "source": [
    "# A linear regression learning algorithm example using TensorFlow library.\n"
   ]
  },
  {
   "cell_type": "code",
   "execution_count": 1,
   "metadata": {
    "collapsed": false
   },
   "outputs": [],
   "source": [
    "import tensorflow as tf\n",
    "import numpy"
   ]
  },
  {
   "cell_type": "code",
   "execution_count": 3,
   "metadata": {
    "collapsed": false
   },
   "outputs": [],
   "source": [
    "# Parameters\n",
    "learning_rate = 0.01\n",
    "\n",
    "# tf Graph Input\n",
    "inputs = tf.placeholder(expected_shape=[2,], name=\"inputs\")\n",
    "\n",
    "w = tf.Variable(expected_shape=[2, 2], name=\"weights\")\n",
    "b = tf.Variable(expected_shape=[1, 2], name=\"biases\")\n",
    "\n",
    "# Middle layer of neural network \n",
    "l = tf.add(tf.matmul(inputs, w), b)\n",
    "\n",
    "ow = tf.Variable(expected_shape=[2,1], name=\"output_weight\")\n",
    "ob = tf.Variable(expected_shape=[2,1], name=\"output_weight\")\n",
    "\n",
    "output = tf.reduce_sum(tf.add(tf.matmul(l, ow), ob))"
   ]
  },
  {
   "cell_type": "code",
   "execution_count": 34,
   "metadata": {
    "collapsed": true
   },
   "outputs": [],
   "source": [
    "# Mean squared error\n",
    "cost = tf.reduce_sum(tf.pow(pred-Y, 2))/(2*n_samples)\n",
    "# Gradient descent\n",
    "optimizer = tf.train.GradientDescentOptimizer(learning_rate).minimize(cost)"
   ]
  },
  {
   "cell_type": "code",
   "execution_count": 35,
   "metadata": {
    "collapsed": false
   },
   "outputs": [
    {
     "ename": "SyntaxError",
     "evalue": "invalid syntax (<ipython-input-35-468d541316cf>, line 2)",
     "output_type": "error",
     "traceback": [
      "\u001b[0;36m  File \u001b[0;32m\"<ipython-input-35-468d541316cf>\"\u001b[0;36m, line \u001b[0;32m2\u001b[0m\n\u001b[0;31m    init =\u001b[0m\n\u001b[0m           ^\u001b[0m\n\u001b[0;31mSyntaxError\u001b[0m\u001b[0;31m:\u001b[0m invalid syntax\n"
     ]
    }
   ],
   "source": [
    "# Initializing the variables\n",
    "init = "
   ]
  },
  {
   "cell_type": "code",
   "execution_count": 36,
   "metadata": {
    "collapsed": false
   },
   "outputs": [
    {
     "name": "stdout",
     "output_type": "stream",
     "text": [
      "Epoch: 0050 cost= 0.212132201 W= 0.0445285 b= 2.27669\n",
      "Epoch: 0100 cost= 0.196552634 W= 0.0567243 b= 2.18895\n",
      "Epoch: 0150 cost= 0.182770312 W= 0.0681949 b= 2.10644\n",
      "Epoch: 0200 cost= 0.170577258 W= 0.0789834 b= 2.02882\n",
      "Epoch: 0250 cost= 0.159790397 W= 0.0891305 b= 1.95583\n",
      "Epoch: 0300 cost= 0.150247589 W= 0.0986741 b= 1.88717\n",
      "Epoch: 0350 cost= 0.141805768 W= 0.10765 b= 1.8226\n",
      "Epoch: 0400 cost= 0.134337261 W= 0.116092 b= 1.76187\n",
      "Epoch: 0450 cost= 0.127730057 W= 0.124031 b= 1.70475\n",
      "Epoch: 0500 cost= 0.121884570 W= 0.131499 b= 1.65103\n",
      "Epoch: 0550 cost= 0.116713002 W= 0.138523 b= 1.6005\n",
      "Epoch: 0600 cost= 0.112137601 W= 0.145129 b= 1.55298\n",
      "Epoch: 0650 cost= 0.108090147 W= 0.151342 b= 1.50828\n",
      "Epoch: 0700 cost= 0.104509287 W= 0.157185 b= 1.46625\n",
      "Epoch: 0750 cost= 0.101341039 W= 0.162681 b= 1.42671\n",
      "Epoch: 0800 cost= 0.098538019 W= 0.16785 b= 1.38952\n",
      "Epoch: 0850 cost= 0.096058056 W= 0.172712 b= 1.35455\n",
      "Epoch: 0900 cost= 0.093863793 W= 0.177284 b= 1.32165\n",
      "Epoch: 0950 cost= 0.091922432 W= 0.181585 b= 1.29071\n",
      "Epoch: 1000 cost= 0.090204738 W= 0.18563 b= 1.26162\n",
      "Optimization Finished!\n",
      "Training cost= 0.0902047 W= 0.18563 b= 1.26162 \n",
      "\n"
     ]
    },
    {
     "data": {
      "image/png": "[encoded data removed]",
      "text/plain": [
       "<matplotlib.figure.Figure at 0x7fbe79c3d990>"
      ]
     },
     "metadata": {},
     "output_type": "display_data"
    }
   ],
   "source": [
    "# Launch the graph\n",
    "with tf.Session() as sess:\n",
    "    sess.run(tf.global_variables_initializer())\n",
    "\n",
    "    # Fit all training data\n",
    "    for epoch in range(training_epochs):\n",
    "        for (x, y) in zip(train_X, train_Y):\n",
    "            sess.run(optimizer, feed_dict={X: x, Y: y})\n",
    "\n",
    "        #Display logs per epoch step\n",
    "        if (epoch+1) % display_step == 0:\n",
    "            c = sess.run(cost, feed_dict={X: train_X, Y:train_Y})\n",
    "            print \"Epoch:\", '%04d' % (epoch+1), \"cost=\", \"{:.9f}\".format(c), \\\n",
    "                \"W=\", sess.run(W), \"b=\", sess.run(b)\n",
    "\n",
    "    print \"Optimization Finished!\"\n",
    "    training_cost = sess.run(cost, feed_dict={X: train_X, Y: train_Y})\n",
    "    print \"Training cost=\", training_cost, \"W=\", sess.run(W), \"b=\", sess.run(b), '\\n'\n",
    "\n",
    "    #Graphic display\n",
    "    plt.plot(train_X, train_Y, 'ro', label='Original data')\n",
    "    plt.plot(train_X, sess.run(W) * train_X + sess.run(b), label='Fitted line')\n",
    "    plt.legend()\n",
    "    plt.show()"
   ]
  },
  {
   "cell_type": "code",
   "execution_count": 20,
   "metadata": {
    "collapsed": false
   },
   "outputs": [],
   "source": [
    "# Regression result"
   ]
  },
  {
   "cell_type": "code",
   "execution_count": null,
   "metadata": {
    "collapsed": true
   },
   "outputs": [],
   "source": []
  }
 ],
 "metadata": {
  "celltoolbar": "Raw Cell Format",
  "kernelspec": {
   "display_name": "Python 2",
   "language": "python",
   "name": "python2"
  },
  "language_info": {
   "codemirror_mode": {
    "name": "ipython",
    "version": 2
   },
   "file_extension": ".py",
   "mimetype": "text/x-python",
   "name": "python",
   "nbconvert_exporter": "python",
   "pygments_lexer": "ipython2",
   "version": "2.7.12"
  }
 },
 "nbformat": 4,
 "nbformat_minor": 0
}
