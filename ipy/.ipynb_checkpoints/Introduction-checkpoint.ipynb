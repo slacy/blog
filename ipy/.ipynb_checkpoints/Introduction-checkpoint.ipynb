{
 "cells": [
  {
   "cell_type": "raw",
   "metadata": {},
   "source": [
    "Title: Introduction\n",
    "Tags: Tensorflow From The Ground Up\n",
    "Date: 1/27/2017 5:30pm \n",
    "Author: slacy"
   ]
  },
  {
   "cell_type": "markdown",
   "metadata": {},
   "source": [
    "## Introduction"
   ]
  },
  {
   "cell_type": "markdown",
   "metadata": {},
   "source": [
    "Hello and welcome to *Tensorflow from the Ground Up*!  I'm Steve, and I'm an experienced Software Engineer, and I'm learning [Tensorflow](https://tensorflow.org).\n",
    "\n",
    "One of the biggest questions that I had was: \n",
    "\n",
    "> How do I determine if I can solve a specific problem using Machine Learning?  \n",
    ">\n",
    "> Which problems will it work for, and which ones will be a failure?  \n",
    ">\n",
    "> How do I design an ML graph from scratch? \n",
    "\n",
    "These are extremely important questions, and most tutorials I found were lacking this type of low level deph and context. \n",
    "\n",
    "There are many tutorials for Tensorflow on the internet, but I found that most of them (including ones included in the [Tensorflow documentation](https://www.tensorflow.org/tutorials/mnist/beginners/) itself) take a \"top down\" approach, usually starting with running an MNIST classifier on a pre-existing data set. \n",
    "\n",
    "These top down introductions are useful for people who have a specific dataset or application in mind, or for those who are ready to apply *existing ML models* to new or existing datasets.  They're also useful for people who want to get a 10,000 foot view of what ML is and how it's applied in practice. \n",
    "\n",
    "Top down approaches aren't at all suited for developers who would like to gain a deep, thourough understanding of the systems, processess, and APIs involved.  "
   ]
  },
  {
   "cell_type": "markdown",
   "metadata": {},
   "source": [
    "## Goals "
   ]
  },
  {
   "cell_type": "markdown",
   "metadata": {},
   "source": [
    "I have some rough goals in mind, which I'll quickly outline here, to keep myself focused: \n",
    "\n",
    "1. Approach machine learning from the **bottom up**.  \n",
    "2. Build **intuititon** around the tools and processes used in ML. \n",
    "3. Use **exploratory** methods, showing different approaches to solving the same problem.\n",
    "4. Aim for **deep** understanding of the systems involved. "
   ]
  },
  {
   "cell_type": "markdown",
   "metadata": {},
   "source": [
    "## Tools"
   ]
  },
  {
   "cell_type": "markdown",
   "metadata": {},
   "source": [
    "For this blog, I'm using a new collection of tools, which I've hand-configured for this purpose.  I may go into more detail in later posts. The collection of tools I'm using is: \n",
    "\n",
    "* [Pelican Static Blogging](https://getpelican.com) Software for content generation.\n",
    "* [Github Pages](https://pages.github.com) for hosting. \n",
    "* [Python](https://python.org) for all source code. \n",
    "* [TensorFlow](https://tensorflow.com) for my ML framework. \n",
    "* [Jupyter Notebooks](https://jupyter.org) for authoring all posts. \n",
    "* Ubuntu & Linux hardware with nVidia GPU accelleration as my runtime."
   ]
  }
 ],
 "metadata": {
  "kernelspec": {
   "display_name": "Python 2",
   "language": "python",
   "name": "python2"
  },
  "language_info": {
   "codemirror_mode": {
    "name": "ipython",
    "version": 2
   },
   "file_extension": ".py",
   "mimetype": "text/x-python",
   "name": "python",
   "nbconvert_exporter": "python",
   "pygments_lexer": "ipython2",
   "version": "2.7.12"
  }
 },
 "nbformat": 4,
 "nbformat_minor": 2
}
