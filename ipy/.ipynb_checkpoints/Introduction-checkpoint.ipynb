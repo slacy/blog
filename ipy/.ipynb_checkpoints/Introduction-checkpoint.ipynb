{
 "cells": [
  {
   "cell_type": "raw",
   "metadata": {},
   "source": [
    "Title: Introduction\n",
    "Category: TensorFlow From The Ground Up\n",
    "Tags: Pelican, Python, TensorFlow, Jupyter\n",
    "Date: 1/27/2017 5:30pm \n",
    "Author: slacy\n"
   ]
  },
  {
   "cell_type": "markdown",
   "metadata": {},
   "source": [
    "Hello and welcome to *TensorFlow from the Ground Up*!  \n",
    "I'm [Steve](https://github.com/slacy), I'm an experienced Software Engineer, and I'm learning [TensorFlow](https://tensorflow.org).\n",
    "\n",
    "There is a lot of mystery, speculation, and promise in the field of Machine Learning, and as an engineer, my goal is to answer several big questions about ML in general: \n",
    "\n",
    "> How do I determine if I can solve a specific problem using Machine Learning?  \n",
    ">\n",
    "> Which problems will it work for, and which ones will be a failure?  \n",
    ">\n",
    "> How do I design an ML graph from scratch? \n",
    "\n",
    "For me, these are extremely important questions, and most tutorials I found were lacking this type of low level deph and context. \n",
    "\n",
    "I found many tutorials for TensorFlow on the internet, but most of them (including ones included in the [TensorFlow documentation](https://www.tensorflow.org/tutorials/mnist/beginners/) itself) take a \"top down\" approach, usually starting with running an MNIST classifier on a pre-existing data set downloaded from the internet.   If none of that made sense to you, then you might be the target audience for this blog!\n",
    "\n",
    "These top down introductions are useful for people who have a specific dataset or application in mind, or for those who are ready to apply *existing ML models* to new or existing datasets.  They're also useful for people who want to get a 10,000 foot view of what ML is and how it's applied in practice. \n",
    "\n",
    "Top down approaches aren't at all suited for developers who would like to gain a deep, thourough understanding of the systems, processess, and APIs involved.  Additionally, if you're looking to apply ML to new problem spaces, design and build ML graphs from scratch, or just experiment with the limits of the framework, then you'll need to use a different learning approach. \n",
    "\n",
    "This blog is the documentation of my personal learning approach, and I hope others find it useful as well."
   ]
  },
  {
   "cell_type": "markdown",
   "metadata": {},
   "source": [
    "## Goals "
   ]
  },
  {
   "cell_type": "markdown",
   "metadata": {},
   "source": [
    "I have some rough goals in mind, which I'll quickly outline here, to keep myself focused: \n",
    "\n",
    "1. Approach machine learning from the **bottom up**.  \n",
    "2. Build **intuititon** around the tools and processes used in ML. \n",
    "3. Use **exploratory** methodology, showing different approaches to solving the same problem.\n",
    "4. Aim for **deep** understanding of the systems involved. "
   ]
  },
  {
   "cell_type": "markdown",
   "metadata": {},
   "source": [
    "## Tools"
   ]
  },
  {
   "cell_type": "markdown",
   "metadata": {},
   "source": [
    "For this blog, I'm using a new collection of tools, which I've hand-configured for this purpose.  I may go into more detail in later posts. The collection of tools I'm using is: \n",
    "\n",
    "* [Pelican Static Blogging](https://getpelican.com) Software for content generation.\n",
    "* [Github Pages](https://pages.github.com) for hosting. \n",
    "* [Python](https://python.org) for all source code. \n",
    "* [TensorFlow](https://tensorflow.com) for my ML framework. \n",
    "* [Jupyter Notebooks](https://jupyter.org) for authoring all posts. \n",
    "* Ubuntu & Linux hardware with nVidia GPU accelleration as my runtime."
   ]
  },
  {
   "cell_type": "markdown",
   "metadata": {},
   "source": [
    "## Intended Audience"
   ]
  },
  {
   "cell_type": "markdown",
   "metadata": {},
   "source": [
    "This blog is intended for a technical audience who has little to no experience with ML / TensorFlow, or who has highlevel experience with TensorFlow and would like to gain a deeper understanding of the math and systems involved. \n",
    "\n",
    "If you are interested in \"Coding along\" and evaluating the the example code here, you will need a computer wit ha software stack that includes:\n",
    "\n",
    "* TensorFlow\n",
    "* Python \n",
    "* [Jupyter Notebook](https://jupyter.org)\n",
    "* [MathJax](https://mathjax.org) (for rendering Notebook equations)\n",
    "\n",
    "Although GPU accelleration isn't strictly needed, it can help the design and iteration process go much faster. "
   ]
  }
 ],
 "metadata": {
  "kernelspec": {
   "display_name": "Python 2",
   "language": "python",
   "name": "python2"
  },
  "language_info": {
   "codemirror_mode": {
    "name": "ipython",
    "version": 2
   },
   "file_extension": ".py",
   "mimetype": "text/x-python",
   "name": "python",
   "nbconvert_exporter": "python",
   "pygments_lexer": "ipython2",
   "version": "2.7.12"
  }
 },
 "nbformat": 4,
 "nbformat_minor": 2
}
