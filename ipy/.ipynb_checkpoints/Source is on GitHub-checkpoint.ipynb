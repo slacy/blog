{
 "cells": [
  {
   "cell_type": "raw",
   "metadata": {},
   "source": [
    "Title: Source is on GitHub\n",
    "Category: TensorFlow From The Ground Up\n",
    "Tags: Python, TensorFlow, Jupyter\n",
    "Date: 2/9/2017 11:00am\n",
    "Author: slacy\n",
    "\n"
   ]
  },
  {
   "cell_type": "markdown",
   "metadata": {},
   "source": [
    "This is just a friendly reminder:\n",
    "\n",
    "# All the source code for all the examples in this blog (and these posts) are on GitHub!\n",
    "\n",
    "Each blog post is its own executable Jupyter Notebook, and all the notebooks can be found in [my GitHub repository](https://github.com/slacy/blog).\n",
    "\n",
    "If you are interested in playing with the examples and source code, then I would recommend: \n",
    "\n",
    "* Start a Python virtualenv\n",
    "* Clone my repository \n",
    "* Run the Jupyter notebook server in the \"ipy\" directory. \n",
    "\n",
    "From there, you can easily run all the examples on all the pages in this blog. \n",
    "\n",
    "**Woot!**"
   ]
  },
  {
   "cell_type": "code",
   "execution_count": null,
   "metadata": {
    "collapsed": true
   },
   "outputs": [],
   "source": [
    "\n"
   ]
  }
 ],
 "metadata": {
  "kernelspec": {
   "display_name": "Python 2",
   "language": "python",
   "name": "python2"
  },
  "language_info": {
   "codemirror_mode": {
    "name": "ipython",
    "version": 2
   },
   "file_extension": ".py",
   "mimetype": "text/x-python",
   "name": "python",
   "nbconvert_exporter": "python",
   "pygments_lexer": "ipython2",
   "version": "2.7.12"
  }
 },
 "nbformat": 4,
 "nbformat_minor": 2
}
