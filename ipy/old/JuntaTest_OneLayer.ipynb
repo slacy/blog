{
 "cells": [
  {
   "cell_type": "code",
   "execution_count": 1,
   "metadata": {
    "collapsed": false
   },
   "outputs": [],
   "source": [
    "import tensorflow as tf\n",
    "import numpy\n",
    "import random\n",
    "import math"
   ]
  },
  {
   "cell_type": "code",
   "execution_count": 18,
   "metadata": {
    "collapsed": false
   },
   "outputs": [],
   "source": [
    "# tf Graph Input\n",
    "num_inputs = 64\n",
    "num_hidden_1 = 2\n",
    "num_hidden_2 = 2\n",
    "num_outputs = 1\n",
    "\n",
    "inputs = tf.placeholder(dtype=tf.float32, shape=[None, num_inputs], name=\"inputs\")\n",
    "expected = tf.placeholder(dtype=tf.float32, shape=[None, num_outputs], name=\"expected\")\n",
    "\n",
    "# First hidden layer of the network \n",
    "h1w = tf.Variable(expected_shape=[num_inputs, num_hidden_1], name=\"hidden_1_weight\", \n",
    "                 initial_value=tf.truncated_normal([num_inputs, num_hidden_1], stddev=0.25))\n",
    "h1m = tf.Variable(expected_shape=[num_inputs, num_hidden_1], name=\"hidden_1_weight\", \n",
    "                 initial_value=tf.zeros([num_inputs, num_hidden_1]))\n",
    "h1b = tf.Variable(expected_shape=[1, num_hidden_1], name=\"hidden_1_bias\", \n",
    "                 initial_value=tf.truncated_normal([1, num_hidden_1], stddev=0.25))\n",
    "\n",
    "h1l = tf.nn.sigmoid(tf.multiply(tf.matmul(inputs, h1m), tf.add(tf.matmul(inputs, h1w), h1b)))\n",
    "\n",
    "# Weight and biases used to turn hidden layer into final output value. \n",
    "ow = tf.Variable(expected_shape=[num_hidden_2, num_outputs], name=\"output_weight\", \n",
    "                 initial_value=tf.truncated_normal([num_hidden_2, num_outputs], stddev=0.25))\n",
    "ob = tf.Variable(expected_shape=[1, num_outputs], name=\"output_bias\", \n",
    "                 initial_value=tf.truncated_normal([1, num_outputs], stddev=0.25))\n",
    "\n",
    "output = tf.add(tf.matmul(h1l, ow), ob)\n",
    "\n",
    "# We compute error as the mean square difference \n",
    "error = tf.reduce_mean(tf.pow(tf.subtract(output, expected), 2))"
   ]
  },
  {
   "cell_type": "code",
   "execution_count": 19,
   "metadata": {
    "collapsed": false
   },
   "outputs": [],
   "source": [
    "# Parameters\n",
    "learning_rate = 0.0025\n",
    "\n",
    "# Gradient descent\n",
    "optimizer = tf.train.AdagradOptimizer(learning_rate).minimize(error)\n",
    "# optimizer = tf.train.AdamOptimizer(learning_rate).minimize(error)\n",
    "# optimizer = tf.train.GradientDescentOptimizer(learning_rate).minimize(error)\n",
    "\n",
    "# optimizer = tf.train.RMSPropOptimizer(learning_rate).minimize(error)"
   ]
  },
  {
   "cell_type": "code",
   "execution_count": null,
   "metadata": {
    "collapsed": false
   },
   "outputs": [
    {
     "name": "stdout",
     "output_type": "stream",
     "text": [
      "Epoch: 0  error= 2655.56\n",
      "Epoch: 1500  error= 1203.85\n",
      "Epoch: 3000  error= 2372.36\n",
      "Epoch: 4500  error= 1984.28\n",
      "Epoch: 6000  error= 1819.93\n",
      "Epoch: 7500  error= 1666.59\n",
      "Epoch: 9000  error= 1911.48\n",
      "Epoch: 10500  error= 2224.03\n",
      "Epoch: 12000  error= 1725.16\n",
      "Epoch: 13500  error= 1550.02\n",
      "Epoch: 15000  error= 2287.33\n",
      "Epoch: 16500  error= 3097.88\n",
      "Epoch: 18000  error= 1873.38\n",
      "Epoch: 19500  error= 2159.08\n",
      "Epoch: 21000  error= 959.357\n",
      "Epoch: 22500  error= 1786.47\n",
      "Epoch: 24000  error= 3274.55\n",
      "Epoch: 25500  error= 2559.68\n",
      "Epoch: 27000  error= 2117.3\n",
      "Epoch: 28500  error= 2083.7\n",
      "Epoch: 30000  error= 2214.67\n",
      "Epoch: 31500  error= 2470.99\n",
      "Epoch: 33000  error= 1872.45\n",
      "Epoch: 34500  error= 2712.25\n",
      "Epoch: 36000  error= 1123.4\n",
      "Epoch: 37500  error= 1683.16\n",
      "Epoch: 39000  error= 2583.32\n",
      "Epoch: 40500  error= 3411.64\n",
      "Epoch: 42000  error= 1130.31\n",
      "Epoch: 43500  error= 1463.51\n",
      "Epoch: 45000  error= 1032.44\n",
      "Epoch: 46500  error= 1873.51\n",
      "Epoch: 48000  error= 2398.01\n",
      "Epoch: 49500  error= 2054.88\n",
      "Epoch: 51000  error= 2270.29\n",
      "Epoch: 52500  error= 1743.31\n",
      "Epoch: 54000  error= 1543.1\n",
      "Epoch: 55500  error= 1442.08\n",
      "Epoch: 57000  error= 2096.29\n",
      "Epoch: 58500  error= 1146.11\n",
      "Epoch: 60000  error= 1653.71\n",
      "Epoch: 61500  error= 1741.51\n",
      "Epoch: 63000  error= 1464.45\n",
      "Epoch: 64500  error= 686.565\n",
      "Epoch: 66000  error= 1166.8\n",
      "Epoch: 67500  error= 999.876\n",
      "Epoch: 69000  error= 2386.23\n",
      "Epoch: 70500  error= 2463.44\n",
      "Epoch: 72000  error= 3186.19\n",
      "Epoch: 73500  error= 960.084\n"
     ]
    }
   ],
   "source": [
    "training_steps = 250000\n",
    "\n",
    "min = 1\n",
    "max = 11\n",
    "\n",
    "display_step = 1500\n",
    "batch_size = 20\n",
    "\n",
    "\n",
    "def binlist(x, length):\n",
    "    return [1.0 * (0!=(x&(1<<b))) for b in range(length)]\n",
    "\n",
    "def onehot(x, length):\n",
    "    return [1.0 * (x==b) for b in range(length)]\n",
    "\n",
    "def lesshot(x, length):\n",
    "    return [1.0 * (x<=b) for b in range(length)]\n",
    "\n",
    "def zero(length): return [0] * length \n",
    "\n",
    "def makeinput(x,y):\n",
    "    return [x, y]\n",
    "\n",
    "def f(x,y):  \n",
    "    return [x*y,]\n",
    "\n",
    "# Launch the graph\n",
    "with tf.Session() as sess:\n",
    "    sess.run(tf.global_variables_initializer())\n",
    "    \n",
    "    for epoch in range(training_steps):\n",
    "        data = { inputs: [], expected: []}\n",
    "        for b in range(batch_size):\n",
    "            x = random.randint(min,max)\n",
    "            y = random.randint(min,max)\n",
    "            data[inputs].append(makeinput(x,y))\n",
    "            data[expected].append(f(x,y))\n",
    "        sess.run(optimizer, feed_dict=data)\n",
    "\n",
    "        if epoch % display_step == 0:\n",
    "            e = sess.run(error, feed_dict=data)\n",
    "            print \"Epoch:\", epoch, \" error=\", e\n",
    "    for x in range(min, max):\n",
    "        for y in range(min, max):\n",
    "            data = {inputs: [makeinput(x,y)], expected: [f(x,y)]}\n",
    "            print \" x=\", x, \" y=\", y, \" final=\", sess.run(output, feed_dict=data), \" err=\",  sess.run(error, feed_dict=data)"
   ]
  },
  {
   "cell_type": "code",
   "execution_count": null,
   "metadata": {
    "collapsed": true
   },
   "outputs": [],
   "source": [
    "# Regression result"
   ]
  },
  {
   "cell_type": "code",
   "execution_count": null,
   "metadata": {
    "collapsed": true
   },
   "outputs": [],
   "source": []
  },
  {
   "cell_type": "code",
   "execution_count": null,
   "metadata": {
    "collapsed": true
   },
   "outputs": [],
   "source": []
  }
 ],
 "metadata": {
  "celltoolbar": "Raw Cell Format",
  "kernelspec": {
   "display_name": "Python 2",
   "language": "python",
   "name": "python2"
  },
  "language_info": {
   "codemirror_mode": {
    "name": "ipython",
    "version": 2
   },
   "file_extension": ".py",
   "mimetype": "text/x-python",
   "name": "python",
   "nbconvert_exporter": "python",
   "pygments_lexer": "ipython2",
   "version": "2.7.12"
  }
 },
 "nbformat": 4,
 "nbformat_minor": 0
}
