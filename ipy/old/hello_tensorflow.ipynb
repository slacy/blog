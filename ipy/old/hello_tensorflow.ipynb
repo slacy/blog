{
 "cells": [
  {
   "cell_type": "code",
   "execution_count": 95,
   "metadata": {
    "collapsed": true
   },
   "outputs": [],
   "source": [
    "# From Hello TensorFlow\n",
    "# https://www.oreilly.com/learning/hello-tensorflow"
   ]
  },
  {
   "cell_type": "code",
   "execution_count": 105,
   "metadata": {
    "collapsed": false
   },
   "outputs": [],
   "source": [
    "import tensorflow as tf\n",
    "import random\n",
    "\n",
    "x = tf.constant(2.0, name='input')\n",
    "w1 = tf.Variable(random.uniform(-100,100), name='weight')\n",
    "w2 = tf.Variable(random.uniform(-100,100), name='weight')\n",
    "b = tf.Variable(random.uniform(-100,100), name='bias')\n",
    "y = (x**2 * w2) + (x*w1) + b\n",
    "y_ = tf.constant(0.0, name='correct_value')\n",
    "loss = tf.pow(y - y_, 2, name='loss')\n",
    "optimizer = tf.train.GradientDescentOptimizer(0.025).minimize(loss)\n",
    "\n",
    "for value in [x, w, y, y_, loss]:\n",
    "    tf.summary.scalar(value.op.name, value)"
   ]
  },
  {
   "cell_type": "code",
   "execution_count": 106,
   "metadata": {
    "collapsed": false
   },
   "outputs": [
    {
     "name": "stdout",
     "output_type": "stream",
     "text": [
      "Step 0  loss=770.085   w=-24.7893\n",
      "Step 100  loss=1.42109e-14   w=-27.4322\n",
      "Step 200  loss=1.42109e-14   w=-27.4322\n",
      "Step 300  loss=1.42109e-14   w=-27.4322\n",
      "Step 400  loss=1.42109e-14   w=-27.4322\n",
      "Step 500  loss=1.42109e-14   w=-27.4322\n",
      "Step 600  loss=1.42109e-14   w=-27.4322\n",
      "Step 700  loss=1.42109e-14   w=-27.4322\n",
      "Step 800  loss=1.42109e-14   w=-27.4322\n",
      "Step 900  loss=1.42109e-14   w=-27.4322\n",
      "13.9073 -27.4322 -0.764954\n"
     ]
    }
   ],
   "source": [
    "\n",
    "init = tf.global_variables_initializer() \n",
    "with tf.Session() as sess: \n",
    "    sess.run(init)\n",
    "    for i in range(1000):\n",
    "        sess.run(optimizer)\n",
    "        if i%100==0:\n",
    "            print \"Step %d\" % i, \" loss=%g \" % sess.run(loss), \" w=%g\"% sess.run(w1)\n",
    "    print sess.run(w2), sess.run(w1), sess.run(b)"
   ]
  },
  {
   "cell_type": "code",
   "execution_count": null,
   "metadata": {
    "collapsed": true
   },
   "outputs": [],
   "source": []
  }
 ],
 "metadata": {
  "kernelspec": {
   "display_name": "Python 2",
   "language": "python",
   "name": "python2"
  },
  "language_info": {
   "codemirror_mode": {
    "name": "ipython",
    "version": 2
   },
   "file_extension": ".py",
   "mimetype": "text/x-python",
   "name": "python",
   "nbconvert_exporter": "python",
   "pygments_lexer": "ipython2",
   "version": "2.7.12"
  }
 },
 "nbformat": 4,
 "nbformat_minor": 2
}
