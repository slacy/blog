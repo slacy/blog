{
 "cells": [
  {
   "cell_type": "code",
   "execution_count": 2,
   "metadata": {
    "collapsed": true
   },
   "outputs": [],
   "source": [
    "%load_ext tikzmagic\n"
   ]
  },
  {
   "cell_type": "code",
   "execution_count": 3,
   "metadata": {
    "collapsed": false
   },
   "outputs": [
    {
     "name": "stderr",
     "output_type": "stream",
     "text": [
      "LaTeX terminated with signal -1\n"
     ]
    },
    {
     "data": {
      "text/plain": [
       "This is pdfTeX, Version 3.14159265-2.6-1.40.16 (TeX Live 2015/Debian) (preloaded format=pdflatex 2016.11.11)  20 JAN 2017 14:23\n",
       "entering extended mode\n",
       " \\write18 enabled.\n",
       " %&-line parsing enabled.\n",
       "**tikz.tex\n",
       "(./tikz.tex\n",
       "LaTeX2e <2016/02/01>\n",
       "Babel <3.9q> and hyphenation patterns for 3 language(s) loaded.\n",
       "\n",
       "! LaTeX Error: File `standalone.cls' not found.\n",
       "\n",
       "Type X to quit or <RETURN> to proceed,\n",
       "or enter new name. (Default extension: cls)\n",
       "\n",
       "Enter file name: \n",
       "! Emergency stop.\n",
       "<read *> \n",
       "         \n",
       "l.3 \\usepackage\n",
       "               {tikz}^^M\n",
       "End of file on the terminal!\n",
       "\n",
       " \n",
       "Here is how much of TeX's memory you used:\n",
       " 10 strings out of 494957\n",
       " 191 string characters out of 6181197\n",
       " 45481 words of memory out of 5000000\n",
       " 3393 multiletter control sequences out of 15000+600000\n",
       " 3640 words of font info for 14 fonts, out of 8000000 for 9000\n",
       " 14 hyphenation exceptions out of 8191\n",
       " 10i,0n,7p,96b,8s stack positions out of 5000i,500n,10000p,200000b,80000s\n",
       "!  ==> Fatal error occurred, no output PDF file produced!\n"
      ]
     },
     "metadata": {},
     "output_type": "display_data"
    }
   ],
   "source": [
    "%%tikz\n",
    "\\draw (0,0) rectangle (1,1);\n",
    "\\filldraw (0.5,0.5) circle (.1);\n"
   ]
  },
  {
   "cell_type": "code",
   "execution_count": null,
   "metadata": {
    "collapsed": true
   },
   "outputs": [],
   "source": []
  }
 ],
 "metadata": {
  "kernelspec": {
   "display_name": "Python 2",
   "language": "python",
   "name": "python2"
  },
  "language_info": {
   "codemirror_mode": {
    "name": "ipython",
    "version": 2
   },
   "file_extension": ".py",
   "mimetype": "text/x-python",
   "name": "python",
   "nbconvert_exporter": "python",
   "pygments_lexer": "ipython2",
   "version": "2.7.12"
  }
 },
 "nbformat": 4,
 "nbformat_minor": 2
}
