{
 "cells": [
  {
   "cell_type": "code",
   "execution_count": 5,
   "metadata": {
    "collapsed": false
   },
   "outputs": [],
   "source": [
    "import tensorflow as tf\n",
    "# import numpy\n",
    "import random\n",
    "import math"
   ]
  },
  {
   "cell_type": "code",
   "execution_count": 11,
   "metadata": {
    "collapsed": false
   },
   "outputs": [],
   "source": [
    "# tf Graph Input\n",
    "num_inputs = 16\n",
    "num_hidden_1 = num_inputs*32\n",
    "num_hidden_2 = num_inputs*32\n",
    "num_outputs = 16\n",
    "stddev = 1.0 \n",
    "\n",
    "with tf.device('/gpu:0'):\n",
    "    inputs = tf.placeholder(dtype=tf.float32, shape=[None, num_inputs], name=\"inputs\")\n",
    "    expected = tf.placeholder(dtype=tf.float32, shape=[None, num_outputs], name=\"expected\")\n",
    "\n",
    "    # First hidden layer of the network \n",
    "    h1w = tf.Variable(expected_shape=[num_inputs, num_hidden_1], name=\"hidden_1_weight\", \n",
    "                     initial_value=tf.truncated_normal([num_inputs, num_hidden_1], stddev=stddev))\n",
    "    h1b = tf.Variable(expected_shape=[1, num_hidden_1], name=\"hidden_1_bias\", \n",
    "                     initial_value=tf.truncated_normal([1, num_hidden_1], stddev=stddev))\n",
    "\n",
    "    h1l = tf.nn.sigmoid(tf.add(tf.matmul(inputs, h1w), h1b))\n",
    "\n",
    "    # Second hidden layer of the network \n",
    "    h2w = tf.Variable(expected_shape=[num_hidden_1, num_hidden_2], name=\"hidden_2_weight\", \n",
    "                     initial_value=tf.truncated_normal([num_hidden_1, num_hidden_2], stddev=stddev))\n",
    "    h2b = tf.Variable(expected_shape=[1, num_hidden_2], name=\"hidden_2_bias\", \n",
    "                     initial_value=tf.truncated_normal([1, num_hidden_2], stddev=stddev))\n",
    "\n",
    "    h2l = tf.nn.sigmoid(tf.add(tf.matmul(h1l, h2w), h2b))\n",
    "\n",
    "    # Weight and biases used to turn hidden layer into final output value. \n",
    "    ow = tf.Variable(expected_shape=[num_hidden_2, num_outputs], name=\"output_weight\", \n",
    "                     initial_value=tf.truncated_normal([num_hidden_2, num_outputs], stddev=stddev))\n",
    "    ob = tf.Variable(expected_shape=[1, num_outputs], name=\"output_bias\", \n",
    "                     initial_value=tf.truncated_normal([1, num_outputs], stddev=stddev))\n",
    "\n",
    "    output = tf.add(tf.matmul(h2l, ow), ob)\n",
    "\n",
    "    # We compute error as the mean square difference \n",
    "    error = tf.reduce_mean(tf.pow(tf.subtract(output, expected), 2))"
   ]
  },
  {
   "cell_type": "code",
   "execution_count": 12,
   "metadata": {
    "collapsed": false
   },
   "outputs": [],
   "source": [
    "# Parameters\n",
    "learning_rate = 0.0025\n",
    "\n",
    "# Gradient descent\n",
    "# optimizer = tf.train.AdagradOptimizer(learning_rate).minimize(error)\n",
    "# optimizer = tf.train.GradientDescentOptimizer(learning_rate).minimize(error)\n",
    "\n",
    "optimizer = tf.train.RMSPropOptimizer(learning_rate).minimize(error)"
   ]
  },
  {
   "cell_type": "code",
   "execution_count": 13,
   "metadata": {
    "collapsed": false
   },
   "outputs": [
    {
     "name": "stdout",
     "output_type": "stream",
     "text": [
      "Epoch: 0  error= 160.914\n",
      "Epoch: 500  error= 0.174251\n",
      "Epoch: 1000  error= 0.139204\n",
      "Epoch: 1500  error= 0.138081\n",
      "Epoch: 2000  error= 0.150861\n",
      "Epoch: 2500  error= 0.139574\n",
      "Epoch: 3000  error= 0.127498\n",
      "Epoch: 3500  error= 0.140545\n",
      "Epoch: 4000  error= 0.177505\n",
      "Epoch: 4500  error= 0.160604\n",
      "Epoch: 5000  error= 0.124091\n",
      "Epoch: 5500  error= 0.145918\n",
      "Epoch: 6000  error= 0.119354\n",
      "Epoch: 6500  error= 0.12316\n",
      "Epoch: 7000  error= 0.160334\n",
      "Epoch: 7500  error= 0.171522\n",
      "Epoch: 8000  error= 0.153141\n",
      "Epoch: 8500  error= 0.165144\n",
      "Epoch: 9000  error= 0.11152\n",
      "Epoch: 9500  error= 0.114472\n",
      "(' x=', 1, ' output=', array([[ 0.29957753,  0.3047058 ,  0.31570122,  0.48503971,  0.67529303,\n",
      "         0.50044376,  0.67335773, -0.50412762,  0.04999673, -0.48846126,\n",
      "        -0.39888275, -0.4102124 , -0.10306102,  0.3734566 ,  0.2925266 ,\n",
      "         0.30002248]], dtype=float32), ' expected=', [[0.0, 1.0, 0.0, 0.0, 0.0, 0.0, 0.0, 0.0, 0.0, 0.0, 0.0, 0.0, 0.0, 0.0, 0.0, 0.0]], ' err=', 0.20101775)\n",
      "(' x=', 2, ' output=', array([[ 0.2942782 ,  0.31659716,  0.34198198,  0.49605322,  0.6865046 ,\n",
      "         0.51475537,  0.65644491, -0.51937079,  0.04686451, -0.49936175,\n",
      "        -0.42238152, -0.40602666, -0.12405235,  0.37673956,  0.28263378,\n",
      "         0.28323674]], dtype=float32), ' expected=', [[0.0, 1.0, 0.0, 0.0, 0.0, 0.0, 0.0, 0.0, 0.0, 0.0, 0.0, 0.0, 0.0, 0.0, 0.0, 0.0]], ' err=', 0.20411475)\n",
      "(' x=', 3, ' output=', array([[ 0.28929669,  0.29824513,  0.321089  ,  0.47406459,  0.68340695,\n",
      "         0.50331074,  0.68912733, -0.51150048,  0.05525929, -0.49102592,\n",
      "        -0.40090442, -0.3935923 , -0.10140127,  0.38934511,  0.28892934,\n",
      "         0.29753721]], dtype=float32), ' expected=', [[0.0, 0.0, 1.0, 0.0, 0.0, 0.0, 0.0, 0.0, 0.0, 0.0, 0.0, 0.0, 0.0, 0.0, 0.0, 0.0]], ' err=', 0.20055473)\n",
      "(' x=', 4, ' output=', array([[ 0.26413995,  0.32465893,  0.3553302 ,  0.50308371,  0.72583735,\n",
      "         0.51330811,  0.62959898, -0.53334963,  0.0344463 , -0.50666165,\n",
      "        -0.46745855, -0.39424235, -0.11552316,  0.41038913,  0.29538369,\n",
      "         0.27414107]], dtype=float32), ' expected=', [[0.0, 1.0, 0.0, 0.0, 0.0, 0.0, 0.0, 0.0, 0.0, 0.0, 0.0, 0.0, 0.0, 0.0, 0.0, 0.0]], ' err=', 0.20952481)\n",
      "(' x=', 5, ' output=', array([[ 0.27896053,  0.29756421,  0.32148811,  0.47502506,  0.69537735,\n",
      "         0.50086856,  0.68596864, -0.51471114,  0.05322146, -0.49383831,\n",
      "        -0.41024685, -0.39041513, -0.09535581,  0.39991289,  0.29439795,\n",
      "         0.29684377]], dtype=float32), ' expected=', [[0.0, 0.0, 1.0, 0.0, 0.0, 0.0, 0.0, 0.0, 0.0, 0.0, 0.0, 0.0, 0.0, 0.0, 0.0, 0.0]], ' err=', 0.20209593)\n",
      "(' x=', 6, ' output=', array([[ 0.28597742,  0.30618244,  0.33227643,  0.48323762,  0.69250441,\n",
      "         0.50824839,  0.67350364, -0.51909864,  0.0492717 , -0.49640226,\n",
      "        -0.41723442, -0.39595431, -0.10873383,  0.39051253,  0.28723145,\n",
      "         0.2906121 ]], dtype=float32), ' expected=', [[0.0, 0.0, 1.0, 0.0, 0.0, 0.0, 0.0, 0.0, 0.0, 0.0, 0.0, 0.0, 0.0, 0.0, 0.0, 0.0]], ' err=', 0.20167756)\n",
      "(' x=', 7, ' output=', array([[ 0.28591949,  0.29841167,  0.32122061,  0.47437567,  0.68802196,\n",
      "         0.50335175,  0.68834674, -0.51291025,  0.05441308, -0.49200034,\n",
      "        -0.40356219, -0.39136332, -0.09997493,  0.39325196,  0.29031706,\n",
      "         0.29708064]], dtype=float32), ' expected=', [[0.0, 0.0, 0.0, 1.0, 0.0, 0.0, 0.0, 0.0, 0.0, 0.0, 0.0, 0.0, 0.0, 0.0, 0.0, 0.0]], ' err=', 0.18200839)\n",
      "(' x=', 8, ' output=', array([[ 0.29691821,  0.33310777,  0.33469507,  0.52035999,  0.67657244,\n",
      "         0.51163894,  0.62214482, -0.50932169,  0.04786658, -0.48751122,\n",
      "        -0.41276675, -0.42702019, -0.13401419,  0.35121906,  0.29310894,\n",
      "         0.29769623]], dtype=float32), ' expected=', [[0.0, 1.0, 0.0, 0.0, 0.0, 0.0, 0.0, 0.0, 0.0, 0.0, 0.0, 0.0, 0.0, 0.0, 0.0, 0.0]], ' err=', 0.19938937)\n",
      "(' x=', 9, ' output=', array([[ 0.28912979,  0.29706204,  0.3203778 ,  0.47345912,  0.68283594,\n",
      "         0.50277346,  0.69011605, -0.51146555,  0.0560267 , -0.49044418,\n",
      "        -0.39966035, -0.39399987, -0.09981257,  0.38921058,  0.28964913,\n",
      "         0.29867995]], dtype=float32), ' expected=', [[0.0, 0.0, 1.0, 0.0, 0.0, 0.0, 0.0, 0.0, 0.0, 0.0, 0.0, 0.0, 0.0, 0.0, 0.0, 0.0]], ' err=', 0.20049922)\n",
      "(' x=', 10, ' output=', array([[ 0.28744549,  0.30154711,  0.32460567,  0.47886693,  0.68408632,\n",
      "         0.5047918 ,  0.68278563, -0.51304412,  0.05572999, -0.49148607,\n",
      "        -0.40262604, -0.39490837, -0.10555023,  0.3871631 ,  0.28880489,\n",
      "         0.29757774]], dtype=float32), ' expected=', [[0.0, 0.0, 1.0, 0.0, 0.0, 0.0, 0.0, 0.0, 0.0, 0.0, 0.0, 0.0, 0.0, 0.0, 0.0, 0.0]], ' err=', 0.20043421)\n",
      "(' x=', 11, ' output=', array([[ 0.28877765,  0.29697824,  0.3202996 ,  0.47294259,  0.68283492,\n",
      "         0.50269741,  0.69068706, -0.5112083 ,  0.05607861, -0.49062657,\n",
      "        -0.39955127, -0.39316511, -0.09992665,  0.38990676,  0.28922057,\n",
      "         0.29873967]], dtype=float32), ' expected=', [[0.0, 0.0, 0.0, 1.0, 0.0, 0.0, 0.0, 0.0, 0.0, 0.0, 0.0, 0.0, 0.0, 0.0, 0.0, 0.0]], ' err=', 0.18139416)\n",
      "(' x=', 12, ' output=', array([[ 0.28640956,  0.30857831,  0.33478758,  0.48456383,  0.68944794,\n",
      "         0.51115626,  0.66991961, -0.51886725,  0.05193543, -0.49428439,\n",
      "        -0.41701895, -0.39660221, -0.11238331,  0.38769114,  0.28721404,\n",
      "         0.29012799]], dtype=float32), ' expected=', [[0.0, 0.0, 1.0, 0.0, 0.0, 0.0, 0.0, 0.0, 0.0, 0.0, 0.0, 0.0, 0.0, 0.0, 0.0, 0.0]], ' err=', 0.20106302)\n",
      "(' x=', 13, ' output=', array([[ 0.28798634,  0.29717177,  0.32064959,  0.47311872,  0.68387127,\n",
      "         0.5028522 ,  0.69064236, -0.51168871,  0.05585504, -0.49062157,\n",
      "        -0.40033782, -0.39284742, -0.09972852,  0.39037687,  0.2897445 ,\n",
      "         0.29867542]], dtype=float32), ' expected=', [[0.0, 0.0, 0.0, 1.0, 0.0, 0.0, 0.0, 0.0, 0.0, 0.0, 0.0, 0.0, 0.0, 0.0, 0.0, 0.0]], ' err=', 0.18155919)\n",
      "(' x=', 14, ' output=', array([[ 0.28811866,  0.29948336,  0.3236185 ,  0.47553599,  0.6843847 ,\n",
      "         0.50447232,  0.68630183, -0.51290929,  0.05509853, -0.4915415 ,\n",
      "        -0.40329528, -0.3938058 , -0.10254639,  0.38953394,  0.28882599,\n",
      "         0.2969259 ]], dtype=float32), ' expected=', [[0.0, 0.0, 0.0, 1.0, 0.0, 0.0, 0.0, 0.0, 0.0, 0.0, 0.0, 0.0, 0.0, 0.0, 0.0, 0.0]], ' err=', 0.18160449)\n",
      "(' x=', 15, ' output=', array([[ 0.2887364 ,  0.29742014,  0.32021949,  0.47276866,  0.683173  ,\n",
      "         0.50292063,  0.69102538, -0.51060057,  0.05603838, -0.4906354 ,\n",
      "        -0.39959145, -0.39253896, -0.10030991,  0.39022303,  0.28924942,\n",
      "         0.29847324]], dtype=float32), ' expected=', [[0.0, 0.0, 0.0, 0.0, 1.0, 0.0, 0.0, 0.0, 0.0, 0.0, 0.0, 0.0, 0.0, 0.0, 0.0, 0.0]], ' err=', 0.15513293)\n"
     ]
    }
   ],
   "source": [
    "training_steps = 10000\n",
    "\n",
    "min = 1\n",
    "max = 2**num_inputs\n",
    "parity_max = 16\n",
    "\n",
    "display_step = 500\n",
    "batch_size = 32\n",
    "\n",
    "def binlist(x, length):\n",
    "    return [1.0 * (0!=(x&(1<<b))) for b in range(length)]\n",
    "\n",
    "def onehot(x, length):\n",
    "    return [1.0 * (x==b) for b in range(length)]\n",
    "\n",
    "def lesshot(x, length):\n",
    "    return [1.0 * (x<=b) for b in range(length)]\n",
    "\n",
    "def zero(length): return [0] * length \n",
    "\n",
    "def makeinput(x):\n",
    "    return binlist(x, num_inputs)\n",
    "\n",
    "def f(x):  \n",
    "    binx = binlist(x, num_inputs)\n",
    "    numbits = sum([binx[i] for i in range(parity_max)])\n",
    "    return onehot(numbits, num_inputs)\n",
    "\n",
    "# Launch the graph\n",
    "with tf.Session() as sess:\n",
    "    sess.run(tf.global_variables_initializer())\n",
    "    \n",
    "    for epoch in range(training_steps):\n",
    "        data = { inputs: [], expected: []}\n",
    "        for b in range(batch_size):\n",
    "            x = random.randint(min,max)\n",
    "            data[inputs].append(makeinput(x))\n",
    "            data[expected].append(f(x))\n",
    "        sess.run(optimizer, feed_dict=data)\n",
    "\n",
    "        if epoch % display_step == 0:\n",
    "            e = sess.run(error, feed_dict=data)\n",
    "            print \"Epoch:\", epoch, \" error=\", e\n",
    "    for x in range(min, parity_max):\n",
    "        data = {inputs: [makeinput(x)], expected: [f(x)]}\n",
    "        print (\" x=\", x, \" output=\", sess.run(output, feed_dict=data), \n",
    "        \" expected=\", data[expected], \n",
    "        \" err=\",  sess.run(error, feed_dict=data))"
   ]
  },
  {
   "cell_type": "code",
   "execution_count": null,
   "metadata": {
    "collapsed": true
   },
   "outputs": [],
   "source": [
    "# Regression result"
   ]
  },
  {
   "cell_type": "code",
   "execution_count": null,
   "metadata": {
    "collapsed": true
   },
   "outputs": [],
   "source": []
  },
  {
   "cell_type": "code",
   "execution_count": null,
   "metadata": {
    "collapsed": true
   },
   "outputs": [],
   "source": []
  }
 ],
 "metadata": {
  "celltoolbar": "Raw Cell Format",
  "kernelspec": {
   "display_name": "Python 2",
   "language": "python",
   "name": "python2"
  },
  "language_info": {
   "codemirror_mode": {
    "name": "ipython",
    "version": 2
   },
   "file_extension": ".py",
   "mimetype": "text/x-python",
   "name": "python",
   "nbconvert_exporter": "python",
   "pygments_lexer": "ipython2",
   "version": "2.7.12"
  }
 },
 "nbformat": 4,
 "nbformat_minor": 0
}
